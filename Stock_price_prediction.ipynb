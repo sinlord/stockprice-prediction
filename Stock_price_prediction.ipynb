{
  "nbformat": 4,
  "nbformat_minor": 0,
  "metadata": {
    "colab": {
      "provenance": []
    },
    "kernelspec": {
      "name": "python3",
      "display_name": "Python 3"
    },
    "language_info": {
      "name": "python"
    }
  },
  "cells": [
    {
      "cell_type": "code",
      "execution_count": 1,
      "metadata": {
        "id": "6kQQblBU1NSC"
      },
      "outputs": [],
      "source": [
        "#Import necessary Libraries\n",
        "import pandas as pd\n",
        "import numpy as np\n",
        "import math\n",
        "import matplotlib.pyplot as plt\n",
        "from sklearn.preprocessing import MinMaxScaler\n",
        "from sklearn.metrics import mean_squared_error\n",
        "import tensorflow as tf\n",
        "from tensorflow.python.keras.models import Sequential\n",
        "from tensorflow.python.keras.layers import Dense\n",
        "from tensorflow.python.keras.layers import LSTM\n",
        "%matplotlib inline\n",
        "import pandas_datareader as pdr "
      ]
    },
    {
      "cell_type": "code",
      "source": [
        "url = 'https://raw.githubusercontent.com/sinlord/stockprice-prediction/main/ADANIENT-NS.csv'\n",
        "dataframe1 = pd.read_csv(url)"
      ],
      "metadata": {
        "id": "yLJUjx7JDUhC"
      },
      "execution_count": 2,
      "outputs": []
    },
    {
      "cell_type": "code",
      "source": [
        "dataframe1.head()"
      ],
      "metadata": {
        "colab": {
          "base_uri": "https://localhost:8080/",
          "height": 206
        },
        "id": "aLFgHlVrEqze",
        "outputId": "c5ccc35f-74eb-4465-ad3e-00d5313361c3"
      },
      "execution_count": 3,
      "outputs": [
        {
          "output_type": "execute_result",
          "data": {
            "text/plain": [
              "         Date       Open       High        Low      Close  Adj Close  \\\n",
              "0  2015-01-01  74.399712  75.495628  73.663994  75.104774  70.727570   \n",
              "1  2015-01-02  75.304039  76.177704  75.104774  75.472641  71.073990   \n",
              "2  2015-01-05  75.273384  77.641479  75.212074  76.721832  72.250381   \n",
              "3  2015-01-06  75.963120  79.381149  74.215782  76.139381  71.701874   \n",
              "4  2015-01-07  76.637527  77.794754  73.878578  75.464973  71.066772   \n",
              "\n",
              "       Volume  \n",
              "0   3946806.0  \n",
              "1   6565229.0  \n",
              "2   9404837.0  \n",
              "3  18412441.0  \n",
              "4  10863352.0  "
            ],
            "text/html": [
              "\n",
              "  <div id=\"df-6b14e5f3-aeaf-4a61-a111-db9c39c9531f\">\n",
              "    <div class=\"colab-df-container\">\n",
              "      <div>\n",
              "<style scoped>\n",
              "    .dataframe tbody tr th:only-of-type {\n",
              "        vertical-align: middle;\n",
              "    }\n",
              "\n",
              "    .dataframe tbody tr th {\n",
              "        vertical-align: top;\n",
              "    }\n",
              "\n",
              "    .dataframe thead th {\n",
              "        text-align: right;\n",
              "    }\n",
              "</style>\n",
              "<table border=\"1\" class=\"dataframe\">\n",
              "  <thead>\n",
              "    <tr style=\"text-align: right;\">\n",
              "      <th></th>\n",
              "      <th>Date</th>\n",
              "      <th>Open</th>\n",
              "      <th>High</th>\n",
              "      <th>Low</th>\n",
              "      <th>Close</th>\n",
              "      <th>Adj Close</th>\n",
              "      <th>Volume</th>\n",
              "    </tr>\n",
              "  </thead>\n",
              "  <tbody>\n",
              "    <tr>\n",
              "      <th>0</th>\n",
              "      <td>2015-01-01</td>\n",
              "      <td>74.399712</td>\n",
              "      <td>75.495628</td>\n",
              "      <td>73.663994</td>\n",
              "      <td>75.104774</td>\n",
              "      <td>70.727570</td>\n",
              "      <td>3946806.0</td>\n",
              "    </tr>\n",
              "    <tr>\n",
              "      <th>1</th>\n",
              "      <td>2015-01-02</td>\n",
              "      <td>75.304039</td>\n",
              "      <td>76.177704</td>\n",
              "      <td>75.104774</td>\n",
              "      <td>75.472641</td>\n",
              "      <td>71.073990</td>\n",
              "      <td>6565229.0</td>\n",
              "    </tr>\n",
              "    <tr>\n",
              "      <th>2</th>\n",
              "      <td>2015-01-05</td>\n",
              "      <td>75.273384</td>\n",
              "      <td>77.641479</td>\n",
              "      <td>75.212074</td>\n",
              "      <td>76.721832</td>\n",
              "      <td>72.250381</td>\n",
              "      <td>9404837.0</td>\n",
              "    </tr>\n",
              "    <tr>\n",
              "      <th>3</th>\n",
              "      <td>2015-01-06</td>\n",
              "      <td>75.963120</td>\n",
              "      <td>79.381149</td>\n",
              "      <td>74.215782</td>\n",
              "      <td>76.139381</td>\n",
              "      <td>71.701874</td>\n",
              "      <td>18412441.0</td>\n",
              "    </tr>\n",
              "    <tr>\n",
              "      <th>4</th>\n",
              "      <td>2015-01-07</td>\n",
              "      <td>76.637527</td>\n",
              "      <td>77.794754</td>\n",
              "      <td>73.878578</td>\n",
              "      <td>75.464973</td>\n",
              "      <td>71.066772</td>\n",
              "      <td>10863352.0</td>\n",
              "    </tr>\n",
              "  </tbody>\n",
              "</table>\n",
              "</div>\n",
              "      <button class=\"colab-df-convert\" onclick=\"convertToInteractive('df-6b14e5f3-aeaf-4a61-a111-db9c39c9531f')\"\n",
              "              title=\"Convert this dataframe to an interactive table.\"\n",
              "              style=\"display:none;\">\n",
              "        \n",
              "  <svg xmlns=\"http://www.w3.org/2000/svg\" height=\"24px\"viewBox=\"0 0 24 24\"\n",
              "       width=\"24px\">\n",
              "    <path d=\"M0 0h24v24H0V0z\" fill=\"none\"/>\n",
              "    <path d=\"M18.56 5.44l.94 2.06.94-2.06 2.06-.94-2.06-.94-.94-2.06-.94 2.06-2.06.94zm-11 1L8.5 8.5l.94-2.06 2.06-.94-2.06-.94L8.5 2.5l-.94 2.06-2.06.94zm10 10l.94 2.06.94-2.06 2.06-.94-2.06-.94-.94-2.06-.94 2.06-2.06.94z\"/><path d=\"M17.41 7.96l-1.37-1.37c-.4-.4-.92-.59-1.43-.59-.52 0-1.04.2-1.43.59L10.3 9.45l-7.72 7.72c-.78.78-.78 2.05 0 2.83L4 21.41c.39.39.9.59 1.41.59.51 0 1.02-.2 1.41-.59l7.78-7.78 2.81-2.81c.8-.78.8-2.07 0-2.86zM5.41 20L4 18.59l7.72-7.72 1.47 1.35L5.41 20z\"/>\n",
              "  </svg>\n",
              "      </button>\n",
              "      \n",
              "  <style>\n",
              "    .colab-df-container {\n",
              "      display:flex;\n",
              "      flex-wrap:wrap;\n",
              "      gap: 12px;\n",
              "    }\n",
              "\n",
              "    .colab-df-convert {\n",
              "      background-color: #E8F0FE;\n",
              "      border: none;\n",
              "      border-radius: 50%;\n",
              "      cursor: pointer;\n",
              "      display: none;\n",
              "      fill: #1967D2;\n",
              "      height: 32px;\n",
              "      padding: 0 0 0 0;\n",
              "      width: 32px;\n",
              "    }\n",
              "\n",
              "    .colab-df-convert:hover {\n",
              "      background-color: #E2EBFA;\n",
              "      box-shadow: 0px 1px 2px rgba(60, 64, 67, 0.3), 0px 1px 3px 1px rgba(60, 64, 67, 0.15);\n",
              "      fill: #174EA6;\n",
              "    }\n",
              "\n",
              "    [theme=dark] .colab-df-convert {\n",
              "      background-color: #3B4455;\n",
              "      fill: #D2E3FC;\n",
              "    }\n",
              "\n",
              "    [theme=dark] .colab-df-convert:hover {\n",
              "      background-color: #434B5C;\n",
              "      box-shadow: 0px 1px 3px 1px rgba(0, 0, 0, 0.15);\n",
              "      filter: drop-shadow(0px 1px 2px rgba(0, 0, 0, 0.3));\n",
              "      fill: #FFFFFF;\n",
              "    }\n",
              "  </style>\n",
              "\n",
              "      <script>\n",
              "        const buttonEl =\n",
              "          document.querySelector('#df-6b14e5f3-aeaf-4a61-a111-db9c39c9531f button.colab-df-convert');\n",
              "        buttonEl.style.display =\n",
              "          google.colab.kernel.accessAllowed ? 'block' : 'none';\n",
              "\n",
              "        async function convertToInteractive(key) {\n",
              "          const element = document.querySelector('#df-6b14e5f3-aeaf-4a61-a111-db9c39c9531f');\n",
              "          const dataTable =\n",
              "            await google.colab.kernel.invokeFunction('convertToInteractive',\n",
              "                                                     [key], {});\n",
              "          if (!dataTable) return;\n",
              "\n",
              "          const docLinkHtml = 'Like what you see? Visit the ' +\n",
              "            '<a target=\"_blank\" href=https://colab.research.google.com/notebooks/data_table.ipynb>data table notebook</a>'\n",
              "            + ' to learn more about interactive tables.';\n",
              "          element.innerHTML = '';\n",
              "          dataTable['output_type'] = 'display_data';\n",
              "          await google.colab.output.renderOutput(dataTable, element);\n",
              "          const docLink = document.createElement('div');\n",
              "          docLink.innerHTML = docLinkHtml;\n",
              "          element.appendChild(docLink);\n",
              "        }\n",
              "      </script>\n",
              "    </div>\n",
              "  </div>\n",
              "  "
            ]
          },
          "metadata": {},
          "execution_count": 3
        }
      ]
    },
    {
      "cell_type": "code",
      "source": [
        "dataframe1.tail()"
      ],
      "metadata": {
        "colab": {
          "base_uri": "https://localhost:8080/",
          "height": 206
        },
        "id": "JWq81Bqrr6UT",
        "outputId": "3afbfeb9-42b6-460c-93fe-6f67b0531bd2"
      },
      "execution_count": 4,
      "outputs": [
        {
          "output_type": "execute_result",
          "data": {
            "text/plain": [
              "            Date        Open        High         Low       Close   Adj Close  \\\n",
              "1225  2019-12-24  214.550003  216.949997  207.600006  209.149994  207.405228   \n",
              "1226  2019-12-26  208.949997  211.100006  205.600006  208.949997  207.206879   \n",
              "1227  2019-12-27  209.050003  211.199997  207.100006  209.100006  207.355637   \n",
              "1228  2019-12-30  209.899994  211.600006  208.000000  208.649994  206.909378   \n",
              "1229  2019-12-31  208.699997  210.750000  207.649994  208.350006  206.611893   \n",
              "\n",
              "         Volume  \n",
              "1225  2984621.0  \n",
              "1226  3299177.0  \n",
              "1227  2240503.0  \n",
              "1228  1938731.0  \n",
              "1229  1600059.0  "
            ],
            "text/html": [
              "\n",
              "  <div id=\"df-06babef3-5806-420c-bf41-f457d0ba9e55\">\n",
              "    <div class=\"colab-df-container\">\n",
              "      <div>\n",
              "<style scoped>\n",
              "    .dataframe tbody tr th:only-of-type {\n",
              "        vertical-align: middle;\n",
              "    }\n",
              "\n",
              "    .dataframe tbody tr th {\n",
              "        vertical-align: top;\n",
              "    }\n",
              "\n",
              "    .dataframe thead th {\n",
              "        text-align: right;\n",
              "    }\n",
              "</style>\n",
              "<table border=\"1\" class=\"dataframe\">\n",
              "  <thead>\n",
              "    <tr style=\"text-align: right;\">\n",
              "      <th></th>\n",
              "      <th>Date</th>\n",
              "      <th>Open</th>\n",
              "      <th>High</th>\n",
              "      <th>Low</th>\n",
              "      <th>Close</th>\n",
              "      <th>Adj Close</th>\n",
              "      <th>Volume</th>\n",
              "    </tr>\n",
              "  </thead>\n",
              "  <tbody>\n",
              "    <tr>\n",
              "      <th>1225</th>\n",
              "      <td>2019-12-24</td>\n",
              "      <td>214.550003</td>\n",
              "      <td>216.949997</td>\n",
              "      <td>207.600006</td>\n",
              "      <td>209.149994</td>\n",
              "      <td>207.405228</td>\n",
              "      <td>2984621.0</td>\n",
              "    </tr>\n",
              "    <tr>\n",
              "      <th>1226</th>\n",
              "      <td>2019-12-26</td>\n",
              "      <td>208.949997</td>\n",
              "      <td>211.100006</td>\n",
              "      <td>205.600006</td>\n",
              "      <td>208.949997</td>\n",
              "      <td>207.206879</td>\n",
              "      <td>3299177.0</td>\n",
              "    </tr>\n",
              "    <tr>\n",
              "      <th>1227</th>\n",
              "      <td>2019-12-27</td>\n",
              "      <td>209.050003</td>\n",
              "      <td>211.199997</td>\n",
              "      <td>207.100006</td>\n",
              "      <td>209.100006</td>\n",
              "      <td>207.355637</td>\n",
              "      <td>2240503.0</td>\n",
              "    </tr>\n",
              "    <tr>\n",
              "      <th>1228</th>\n",
              "      <td>2019-12-30</td>\n",
              "      <td>209.899994</td>\n",
              "      <td>211.600006</td>\n",
              "      <td>208.000000</td>\n",
              "      <td>208.649994</td>\n",
              "      <td>206.909378</td>\n",
              "      <td>1938731.0</td>\n",
              "    </tr>\n",
              "    <tr>\n",
              "      <th>1229</th>\n",
              "      <td>2019-12-31</td>\n",
              "      <td>208.699997</td>\n",
              "      <td>210.750000</td>\n",
              "      <td>207.649994</td>\n",
              "      <td>208.350006</td>\n",
              "      <td>206.611893</td>\n",
              "      <td>1600059.0</td>\n",
              "    </tr>\n",
              "  </tbody>\n",
              "</table>\n",
              "</div>\n",
              "      <button class=\"colab-df-convert\" onclick=\"convertToInteractive('df-06babef3-5806-420c-bf41-f457d0ba9e55')\"\n",
              "              title=\"Convert this dataframe to an interactive table.\"\n",
              "              style=\"display:none;\">\n",
              "        \n",
              "  <svg xmlns=\"http://www.w3.org/2000/svg\" height=\"24px\"viewBox=\"0 0 24 24\"\n",
              "       width=\"24px\">\n",
              "    <path d=\"M0 0h24v24H0V0z\" fill=\"none\"/>\n",
              "    <path d=\"M18.56 5.44l.94 2.06.94-2.06 2.06-.94-2.06-.94-.94-2.06-.94 2.06-2.06.94zm-11 1L8.5 8.5l.94-2.06 2.06-.94-2.06-.94L8.5 2.5l-.94 2.06-2.06.94zm10 10l.94 2.06.94-2.06 2.06-.94-2.06-.94-.94-2.06-.94 2.06-2.06.94z\"/><path d=\"M17.41 7.96l-1.37-1.37c-.4-.4-.92-.59-1.43-.59-.52 0-1.04.2-1.43.59L10.3 9.45l-7.72 7.72c-.78.78-.78 2.05 0 2.83L4 21.41c.39.39.9.59 1.41.59.51 0 1.02-.2 1.41-.59l7.78-7.78 2.81-2.81c.8-.78.8-2.07 0-2.86zM5.41 20L4 18.59l7.72-7.72 1.47 1.35L5.41 20z\"/>\n",
              "  </svg>\n",
              "      </button>\n",
              "      \n",
              "  <style>\n",
              "    .colab-df-container {\n",
              "      display:flex;\n",
              "      flex-wrap:wrap;\n",
              "      gap: 12px;\n",
              "    }\n",
              "\n",
              "    .colab-df-convert {\n",
              "      background-color: #E8F0FE;\n",
              "      border: none;\n",
              "      border-radius: 50%;\n",
              "      cursor: pointer;\n",
              "      display: none;\n",
              "      fill: #1967D2;\n",
              "      height: 32px;\n",
              "      padding: 0 0 0 0;\n",
              "      width: 32px;\n",
              "    }\n",
              "\n",
              "    .colab-df-convert:hover {\n",
              "      background-color: #E2EBFA;\n",
              "      box-shadow: 0px 1px 2px rgba(60, 64, 67, 0.3), 0px 1px 3px 1px rgba(60, 64, 67, 0.15);\n",
              "      fill: #174EA6;\n",
              "    }\n",
              "\n",
              "    [theme=dark] .colab-df-convert {\n",
              "      background-color: #3B4455;\n",
              "      fill: #D2E3FC;\n",
              "    }\n",
              "\n",
              "    [theme=dark] .colab-df-convert:hover {\n",
              "      background-color: #434B5C;\n",
              "      box-shadow: 0px 1px 3px 1px rgba(0, 0, 0, 0.15);\n",
              "      filter: drop-shadow(0px 1px 2px rgba(0, 0, 0, 0.3));\n",
              "      fill: #FFFFFF;\n",
              "    }\n",
              "  </style>\n",
              "\n",
              "      <script>\n",
              "        const buttonEl =\n",
              "          document.querySelector('#df-06babef3-5806-420c-bf41-f457d0ba9e55 button.colab-df-convert');\n",
              "        buttonEl.style.display =\n",
              "          google.colab.kernel.accessAllowed ? 'block' : 'none';\n",
              "\n",
              "        async function convertToInteractive(key) {\n",
              "          const element = document.querySelector('#df-06babef3-5806-420c-bf41-f457d0ba9e55');\n",
              "          const dataTable =\n",
              "            await google.colab.kernel.invokeFunction('convertToInteractive',\n",
              "                                                     [key], {});\n",
              "          if (!dataTable) return;\n",
              "\n",
              "          const docLinkHtml = 'Like what you see? Visit the ' +\n",
              "            '<a target=\"_blank\" href=https://colab.research.google.com/notebooks/data_table.ipynb>data table notebook</a>'\n",
              "            + ' to learn more about interactive tables.';\n",
              "          element.innerHTML = '';\n",
              "          dataTable['output_type'] = 'display_data';\n",
              "          await google.colab.output.renderOutput(dataTable, element);\n",
              "          const docLink = document.createElement('div');\n",
              "          docLink.innerHTML = docLinkHtml;\n",
              "          element.appendChild(docLink);\n",
              "        }\n",
              "      </script>\n",
              "    </div>\n",
              "  </div>\n",
              "  "
            ]
          },
          "metadata": {},
          "execution_count": 4
        }
      ]
    },
    {
      "cell_type": "code",
      "source": [
        "dataframe1 = dataframe1.dropna()"
      ],
      "metadata": {
        "id": "SkG4QuHfkZsM"
      },
      "execution_count": 5,
      "outputs": []
    },
    {
      "cell_type": "code",
      "source": [
        "df1=dataframe1.reset_index()['Close']"
      ],
      "metadata": {
        "id": "V68a91crssBO"
      },
      "execution_count": 6,
      "outputs": []
    },
    {
      "cell_type": "code",
      "source": [
        "plt.plot(df1)"
      ],
      "metadata": {
        "colab": {
          "base_uri": "https://localhost:8080/",
          "height": 448
        },
        "id": "-sFA569BtOYL",
        "outputId": "10c39f7e-4647-474f-ab57-cbeb7a885f6f"
      },
      "execution_count": 7,
      "outputs": [
        {
          "output_type": "execute_result",
          "data": {
            "text/plain": [
              "[<matplotlib.lines.Line2D at 0x7efe1d424d30>]"
            ]
          },
          "metadata": {},
          "execution_count": 7
        },
        {
          "output_type": "display_data",
          "data": {
            "text/plain": [
              "<Figure size 640x480 with 1 Axes>"
            ],
            "image/png": "[encoded data removed]"
          },
          "metadata": {}
        }
      ]
    },
    {
      "cell_type": "code",
      "source": [
        "#Since LSTM are sensitive to the scale of the data, so we apply MinMax Scaler to transform our values between 0 and 1"
      ],
      "metadata": {
        "id": "1x_O8cnRtbyA"
      },
      "execution_count": 8,
      "outputs": []
    },
    {
      "cell_type": "code",
      "source": [
        "scaler=MinMaxScaler(feature_range=(0,1))\n",
        "df1=scaler.fit_transform(np.array(df1).reshape(-1,1))"
      ],
      "metadata": {
        "id": "yXXd-HgRttF0"
      },
      "execution_count": 9,
      "outputs": []
    },
    {
      "cell_type": "code",
      "source": [
        "df1.shape"
      ],
      "metadata": {
        "colab": {
          "base_uri": "https://localhost:8080/"
        },
        "id": "3xAmOoyMStRa",
        "outputId": "43585a96-1811-436f-a982-3b5fcce40e28"
      },
      "execution_count": 10,
      "outputs": [
        {
          "output_type": "execute_result",
          "data": {
            "text/plain": [
              "(1229, 1)"
            ]
          },
          "metadata": {},
          "execution_count": 10
        }
      ]
    },
    {
      "cell_type": "code",
      "source": [
        "df1"
      ],
      "metadata": {
        "colab": {
          "base_uri": "https://localhost:8080/"
        },
        "id": "YqyNj2ZZS0uf",
        "outputId": "a9a0bebd-0496-4bed-e597-678a9592e690"
      },
      "execution_count": 11,
      "outputs": [
        {
          "output_type": "execute_result",
          "data": {
            "text/plain": [
              "array([[0.23070028],\n",
              "       [0.23266973],\n",
              "       [0.23935751],\n",
              "       ...,\n",
              "       [0.94806922],\n",
              "       [0.94566   ],\n",
              "       [0.94405396]])"
            ]
          },
          "metadata": {},
          "execution_count": 11
        }
      ]
    },
    {
      "cell_type": "code",
      "source": [
        "print(np.any(np.isnan(df1)))"
      ],
      "metadata": {
        "colab": {
          "base_uri": "https://localhost:8080/"
        },
        "id": "2zRsl5mNhjyg",
        "outputId": "53b8e288-71d6-452e-9844-77189bd4537c"
      },
      "execution_count": 12,
      "outputs": [
        {
          "output_type": "stream",
          "name": "stdout",
          "text": [
            "False\n"
          ]
        }
      ]
    },
    {
      "cell_type": "code",
      "source": [
        "##splitting dataset into train and test split - 70% train and 30% test\n",
        "training_size=int(len(df1)*0.70)\n",
        "test_size=len(df1)-training_size\n",
        "train_data,test_data=df1[0:training_size,:],df1[training_size:len(df1),:1]"
      ],
      "metadata": {
        "id": "e8q62YbCTJze"
      },
      "execution_count": 13,
      "outputs": []
    },
    {
      "cell_type": "code",
      "source": [
        "training_size,test_size"
      ],
      "metadata": {
        "colab": {
          "base_uri": "https://localhost:8080/"
        },
        "id": "LYlVirSpTnht",
        "outputId": "690142c4-d6f3-461d-e23f-508192569fb6"
      },
      "execution_count": 14,
      "outputs": [
        {
          "output_type": "execute_result",
          "data": {
            "text/plain": [
              "(860, 369)"
            ]
          },
          "metadata": {},
          "execution_count": 14
        }
      ]
    },
    {
      "cell_type": "code",
      "source": [
        "import numpy\n",
        "# convert an array of values into a dataset matrix\n",
        "def create_dataset(dataset, time_step=1):\n",
        "\tdataX, dataY = [], []\n",
        "\tfor i in range(len(dataset)-time_step-1):\n",
        "\t\ta = dataset[i:(i+time_step), 0]   ###i=0, 0,1,2,3-----99   100 \n",
        "\t\tdataX.append(a)\n",
        "\t\tdataY.append(dataset[i + time_step, 0])\n",
        "\treturn numpy.array(dataX), numpy.array(dataY)"
      ],
      "metadata": {
        "id": "IHSS0PUa9HuC"
      },
      "execution_count": 15,
      "outputs": []
    },
    {
      "cell_type": "code",
      "source": [
        "# reshape into X=t,t+1,t+2,t+3 and Y=t+4\n",
        "time_step = 100\n",
        "X_train, y_train = create_dataset(train_data, time_step)\n",
        "X_test, ytest = create_dataset(test_data, time_step)"
      ],
      "metadata": {
        "id": "NXw3C8sJ_aX4"
      },
      "execution_count": 16,
      "outputs": []
    },
    {
      "cell_type": "code",
      "source": [
        "print(X_train.shape), print(y_train.shape)"
      ],
      "metadata": {
        "colab": {
          "base_uri": "https://localhost:8080/"
        },
        "id": "--EtXLBh_oXd",
        "outputId": "6eebcdf0-a843-4245-b734-bb249bda67b6"
      },
      "execution_count": 17,
      "outputs": [
        {
          "output_type": "stream",
          "name": "stdout",
          "text": [
            "(759, 100)\n",
            "(759,)\n"
          ]
        },
        {
          "output_type": "execute_result",
          "data": {
            "text/plain": [
              "(None, None)"
            ]
          },
          "metadata": {},
          "execution_count": 17
        }
      ]
    },
    {
      "cell_type": "code",
      "source": [
        "print(X_test.shape), print(ytest.shape)"
      ],
      "metadata": {
        "colab": {
          "base_uri": "https://localhost:8080/"
        },
        "id": "yXp6DZgB_tWB",
        "outputId": "ed53ead4-6e21-44be-fe28-9b33246425a7"
      },
      "execution_count": 18,
      "outputs": [
        {
          "output_type": "stream",
          "name": "stdout",
          "text": [
            "(268, 100)\n",
            "(268,)\n"
          ]
        },
        {
          "output_type": "execute_result",
          "data": {
            "text/plain": [
              "(None, None)"
            ]
          },
          "metadata": {},
          "execution_count": 18
        }
      ]
    },
    {
      "cell_type": "code",
      "source": [
        "# reshape input to be [samples, time steps, features] which is required for LSTM\n",
        "X_train =X_train.reshape(X_train.shape[0],X_train.shape[1] , 1)\n",
        "X_test = X_test.reshape(X_test.shape[0],X_test.shape[1] , 1)"
      ],
      "metadata": {
        "id": "lZDVTPFV_ze9"
      },
      "execution_count": 19,
      "outputs": []
    },
    {
      "cell_type": "code",
      "source": [
        "### Create the Stacked LSTM model"
      ],
      "metadata": {
        "id": "d76frgfq_4GC"
      },
      "execution_count": 20,
      "outputs": []
    },
    {
      "cell_type": "code",
      "source": [
        "model=Sequential()\n",
        "model.add(LSTM(50,return_sequences=True,input_shape=(100,1)))\n",
        "model.add(LSTM(50,return_sequences=True))\n",
        "model.add(LSTM(50))\n",
        "model.add(Dense(1))\n",
        "model.compile(loss='mean_squared_error',optimizer='adam')"
      ],
      "metadata": {
        "id": "JCyi8GVPAECB"
      },
      "execution_count": 21,
      "outputs": []
    },
    {
      "cell_type": "code",
      "source": [
        "model.summary()"
      ],
      "metadata": {
        "colab": {
          "base_uri": "https://localhost:8080/"
        },
        "id": "4Kvj81xQAH0E",
        "outputId": "8d423aad-f52c-4506-95eb-f9eef56b8535"
      },
      "execution_count": 22,
      "outputs": [
        {
          "output_type": "stream",
          "name": "stdout",
          "text": [
            "Model: \"sequential\"\n",
            "_________________________________________________________________\n",
            "Layer (type)                 Output Shape              Param #   \n",
            "=================================================================\n",
            "lstm (LSTM)                  (None, 100, 50)           10400     \n",
            "_________________________________________________________________\n",
            "lstm_1 (LSTM)                (None, 100, 50)           20200     \n",
            "_________________________________________________________________\n",
            "lstm_2 (LSTM)                (None, 50)                20200     \n",
            "_________________________________________________________________\n",
            "dense (Dense)                (None, 1)                 51        \n",
            "=================================================================\n",
            "Total params: 50,851\n",
            "Trainable params: 50,851\n",
            "Non-trainable params: 0\n",
            "_________________________________________________________________\n"
          ]
        }
      ]
    },
    {
      "cell_type": "code",
      "source": [
        "print(np.any(np.isnan(X_train)))\n",
        "print(np.any(np.isnan(y_train)))"
      ],
      "metadata": {
        "colab": {
          "base_uri": "https://localhost:8080/"
        },
        "id": "8PbK5HqjZ5UY",
        "outputId": "8cf0782f-2ad5-45ff-da03-c4060bb4c0f4"
      },
      "execution_count": 23,
      "outputs": [
        {
          "output_type": "stream",
          "name": "stdout",
          "text": [
            "False\n",
            "False\n"
          ]
        }
      ]
    },
    {
      "cell_type": "code",
      "source": [
        "X_train"
      ],
      "metadata": {
        "colab": {
          "base_uri": "https://localhost:8080/"
        },
        "id": "_hg1FZCEgusm",
        "outputId": "bf6c22b8-ae32-48fa-f778-dd1a8a2bc7ea"
      },
      "execution_count": 24,
      "outputs": [
        {
          "output_type": "execute_result",
          "data": {
            "text/plain": [
              "array([[[0.23070028],\n",
              "        [0.23266973],\n",
              "        [0.23935751],\n",
              "        ...,\n",
              "        [0.47728675],\n",
              "        [0.43133386],\n",
              "        [0.4081933 ]],\n",
              "\n",
              "       [[0.23266973],\n",
              "        [0.23935751],\n",
              "        [0.23623925],\n",
              "        ...,\n",
              "        [0.43133386],\n",
              "        [0.4081933 ],\n",
              "        [0.34808531]],\n",
              "\n",
              "       [[0.23935751],\n",
              "        [0.23623925],\n",
              "        [0.23262868],\n",
              "        ...,\n",
              "        [0.4081933 ],\n",
              "        [0.34808531],\n",
              "        [0.35132664]],\n",
              "\n",
              "       ...,\n",
              "\n",
              "       [[0.42489487],\n",
              "        [0.42810384],\n",
              "        [0.45406719],\n",
              "        ...,\n",
              "        [0.28358378],\n",
              "        [0.29011035],\n",
              "        [0.27482445]],\n",
              "\n",
              "       [[0.42810384],\n",
              "        [0.45406719],\n",
              "        [0.45100411],\n",
              "        ...,\n",
              "        [0.29011035],\n",
              "        [0.27482445],\n",
              "        [0.28117925]],\n",
              "\n",
              "       [[0.45406719],\n",
              "        [0.45100411],\n",
              "        [0.44502377],\n",
              "        ...,\n",
              "        [0.27482445],\n",
              "        [0.28117925],\n",
              "        [0.27465269]]])"
            ]
          },
          "metadata": {},
          "execution_count": 24
        }
      ]
    },
    {
      "cell_type": "code",
      "source": [
        "model.fit(X_train,y_train,validation_data=(X_test,ytest),epochs=100,batch_size=64,verbose=1)"
      ],
      "metadata": {
        "colab": {
          "base_uri": "https://localhost:8080/"
        },
        "id": "BliOgVVOAT4A",
        "outputId": "e99fdd62-6fcc-4ec4-93fb-06e423e95d1b"
      },
      "execution_count": 31,
      "outputs": [
        {
          "output_type": "stream",
          "name": "stdout",
          "text": [
            "Epoch 1/100\n",
            "12/12 [==============================] - 6s 534ms/step - loss: 3.6975e-04 - val_loss: 0.0711\n",
            "Epoch 2/100\n",
            "12/12 [==============================] - 5s 409ms/step - loss: 3.6554e-04 - val_loss: 0.0839\n",
            "Epoch 3/100\n",
            "12/12 [==============================] - 5s 404ms/step - loss: 3.5363e-04 - val_loss: 0.0956\n",
            "Epoch 4/100\n",
            "12/12 [==============================] - 6s 516ms/step - loss: 3.6899e-04 - val_loss: 0.0921\n",
            "Epoch 5/100\n",
            "12/12 [==============================] - 5s 409ms/step - loss: 3.5152e-04 - val_loss: 0.0904\n",
            "Epoch 6/100\n",
            "12/12 [==============================] - 6s 527ms/step - loss: 4.1014e-04 - val_loss: 0.0636\n",
            "Epoch 7/100\n",
            "12/12 [==============================] - 5s 405ms/step - loss: 3.7560e-04 - val_loss: 0.0655\n",
            "Epoch 8/100\n",
            "12/12 [==============================] - 6s 484ms/step - loss: 3.4034e-04 - val_loss: 0.0679\n",
            "Epoch 9/100\n",
            "12/12 [==============================] - 5s 429ms/step - loss: 3.1181e-04 - val_loss: 0.0593\n",
            "Epoch 10/100\n",
            "12/12 [==============================] - 5s 414ms/step - loss: 3.1369e-04 - val_loss: 0.0536\n",
            "Epoch 11/100\n",
            "12/12 [==============================] - 6s 525ms/step - loss: 3.2165e-04 - val_loss: 0.0613\n",
            "Epoch 12/100\n",
            "12/12 [==============================] - 5s 409ms/step - loss: 3.2625e-04 - val_loss: 0.0513\n",
            "Epoch 13/100\n",
            "12/12 [==============================] - 6s 525ms/step - loss: 2.9373e-04 - val_loss: 0.0551\n",
            "Epoch 14/100\n",
            "12/12 [==============================] - 5s 409ms/step - loss: 3.2224e-04 - val_loss: 0.0481\n",
            "Epoch 15/100\n",
            "12/12 [==============================] - 5s 433ms/step - loss: 3.1169e-04 - val_loss: 0.0566\n",
            "Epoch 16/100\n",
            "12/12 [==============================] - 6s 471ms/step - loss: 3.2778e-04 - val_loss: 0.0508\n",
            "Epoch 17/100\n",
            "12/12 [==============================] - 5s 405ms/step - loss: 3.0926e-04 - val_loss: 0.0568\n",
            "Epoch 18/100\n",
            "12/12 [==============================] - 6s 524ms/step - loss: 2.9715e-04 - val_loss: 0.0329\n",
            "Epoch 19/100\n",
            "12/12 [==============================] - 5s 411ms/step - loss: 2.9753e-04 - val_loss: 0.0485\n",
            "Epoch 20/100\n",
            "12/12 [==============================] - 6s 518ms/step - loss: 2.8720e-04 - val_loss: 0.0570\n",
            "Epoch 21/100\n",
            "12/12 [==============================] - 5s 419ms/step - loss: 3.1926e-04 - val_loss: 0.0387\n",
            "Epoch 22/100\n",
            "12/12 [==============================] - 5s 410ms/step - loss: 2.6540e-04 - val_loss: 0.0699\n",
            "Epoch 23/100\n",
            "12/12 [==============================] - 6s 519ms/step - loss: 3.0218e-04 - val_loss: 0.0457\n",
            "Epoch 24/100\n",
            "12/12 [==============================] - 5s 410ms/step - loss: 2.7356e-04 - val_loss: 0.0386\n",
            "Epoch 25/100\n",
            "12/12 [==============================] - 6s 532ms/step - loss: 2.6970e-04 - val_loss: 0.0413\n",
            "Epoch 26/100\n",
            "12/12 [==============================] - 5s 410ms/step - loss: 2.4915e-04 - val_loss: 0.0365\n",
            "Epoch 27/100\n",
            "12/12 [==============================] - 6s 482ms/step - loss: 2.5009e-04 - val_loss: 0.0297\n",
            "Epoch 28/100\n",
            "12/12 [==============================] - 5s 433ms/step - loss: 2.3687e-04 - val_loss: 0.0332\n",
            "Epoch 29/100\n",
            "12/12 [==============================] - 5s 411ms/step - loss: 2.4438e-04 - val_loss: 0.0296\n",
            "Epoch 30/100\n",
            "12/12 [==============================] - 6s 522ms/step - loss: 2.4779e-04 - val_loss: 0.0440\n",
            "Epoch 31/100\n",
            "12/12 [==============================] - 5s 405ms/step - loss: 2.7928e-04 - val_loss: 0.0323\n",
            "Epoch 32/100\n",
            "12/12 [==============================] - 6s 529ms/step - loss: 2.4798e-04 - val_loss: 0.0231\n",
            "Epoch 33/100\n",
            "12/12 [==============================] - 5s 411ms/step - loss: 2.1558e-04 - val_loss: 0.0436\n",
            "Epoch 34/100\n",
            "12/12 [==============================] - 5s 438ms/step - loss: 2.1835e-04 - val_loss: 0.0340\n",
            "Epoch 35/100\n",
            "12/12 [==============================] - 6s 474ms/step - loss: 2.1203e-04 - val_loss: 0.0367\n",
            "Epoch 36/100\n",
            "12/12 [==============================] - 5s 411ms/step - loss: 2.5370e-04 - val_loss: 0.0336\n",
            "Epoch 37/100\n",
            "12/12 [==============================] - 6s 526ms/step - loss: 2.3760e-04 - val_loss: 0.0202\n",
            "Epoch 38/100\n",
            "12/12 [==============================] - 5s 412ms/step - loss: 2.1596e-04 - val_loss: 0.0217\n",
            "Epoch 39/100\n",
            "12/12 [==============================] - 6s 523ms/step - loss: 2.4546e-04 - val_loss: 0.0228\n",
            "Epoch 40/100\n",
            "12/12 [==============================] - 5s 407ms/step - loss: 2.3961e-04 - val_loss: 0.0275\n",
            "Epoch 41/100\n",
            "12/12 [==============================] - 5s 409ms/step - loss: 2.1920e-04 - val_loss: 0.0279\n",
            "Epoch 42/100\n",
            "12/12 [==============================] - 6s 527ms/step - loss: 2.0740e-04 - val_loss: 0.0164\n",
            "Epoch 43/100\n",
            "12/12 [==============================] - 5s 414ms/step - loss: 2.6419e-04 - val_loss: 0.0269\n",
            "Epoch 44/100\n",
            "12/12 [==============================] - 6s 531ms/step - loss: 2.9163e-04 - val_loss: 0.0241\n",
            "Epoch 45/100\n",
            "12/12 [==============================] - 5s 407ms/step - loss: 2.1219e-04 - val_loss: 0.0129\n",
            "Epoch 46/100\n",
            "12/12 [==============================] - 6s 484ms/step - loss: 2.1083e-04 - val_loss: 0.0195\n",
            "Epoch 47/100\n",
            "12/12 [==============================] - 5s 423ms/step - loss: 2.1008e-04 - val_loss: 0.0216\n",
            "Epoch 48/100\n",
            "12/12 [==============================] - 5s 411ms/step - loss: 2.2709e-04 - val_loss: 0.0241\n",
            "Epoch 49/100\n",
            "12/12 [==============================] - 6s 528ms/step - loss: 2.0358e-04 - val_loss: 0.0168\n",
            "Epoch 50/100\n",
            "12/12 [==============================] - 5s 403ms/step - loss: 1.9372e-04 - val_loss: 0.0176\n",
            "Epoch 51/100\n",
            "12/12 [==============================] - 6s 524ms/step - loss: 2.0612e-04 - val_loss: 0.0174\n",
            "Epoch 52/100\n",
            "12/12 [==============================] - 5s 408ms/step - loss: 2.0652e-04 - val_loss: 0.0143\n",
            "Epoch 53/100\n",
            "12/12 [==============================] - 5s 425ms/step - loss: 1.9414e-04 - val_loss: 0.0236\n",
            "Epoch 54/100\n",
            "12/12 [==============================] - 6s 484ms/step - loss: 1.9920e-04 - val_loss: 0.0222\n",
            "Epoch 55/100\n",
            "12/12 [==============================] - 5s 404ms/step - loss: 2.1443e-04 - val_loss: 0.0137\n",
            "Epoch 56/100\n",
            "12/12 [==============================] - 6s 518ms/step - loss: 1.8836e-04 - val_loss: 0.0166\n",
            "Epoch 57/100\n",
            "12/12 [==============================] - 5s 408ms/step - loss: 1.9851e-04 - val_loss: 0.0134\n",
            "Epoch 58/100\n",
            "12/12 [==============================] - 6s 494ms/step - loss: 1.9236e-04 - val_loss: 0.0214\n",
            "Epoch 59/100\n",
            "12/12 [==============================] - 5s 413ms/step - loss: 1.8907e-04 - val_loss: 0.0169\n",
            "Epoch 60/100\n",
            "12/12 [==============================] - 5s 404ms/step - loss: 1.8510e-04 - val_loss: 0.0187\n",
            "Epoch 61/100\n",
            "12/12 [==============================] - 6s 530ms/step - loss: 1.8806e-04 - val_loss: 0.0258\n",
            "Epoch 62/100\n",
            "12/12 [==============================] - 5s 409ms/step - loss: 1.8742e-04 - val_loss: 0.0210\n",
            "Epoch 63/100\n",
            "12/12 [==============================] - 6s 531ms/step - loss: 1.9921e-04 - val_loss: 0.0138\n",
            "Epoch 64/100\n",
            "12/12 [==============================] - 5s 411ms/step - loss: 1.8317e-04 - val_loss: 0.0137\n",
            "Epoch 65/100\n",
            "12/12 [==============================] - 5s 458ms/step - loss: 1.8341e-04 - val_loss: 0.0144\n",
            "Epoch 66/100\n",
            "12/12 [==============================] - 6s 454ms/step - loss: 1.8760e-04 - val_loss: 0.0167\n",
            "Epoch 67/100\n",
            "12/12 [==============================] - 5s 407ms/step - loss: 1.9823e-04 - val_loss: 0.0143\n",
            "Epoch 68/100\n",
            "12/12 [==============================] - 6s 527ms/step - loss: 1.9380e-04 - val_loss: 0.0131\n",
            "Epoch 69/100\n",
            "12/12 [==============================] - 5s 408ms/step - loss: 1.7928e-04 - val_loss: 0.0143\n",
            "Epoch 70/100\n",
            "12/12 [==============================] - 6s 527ms/step - loss: 1.7788e-04 - val_loss: 0.0123\n",
            "Epoch 71/100\n",
            "12/12 [==============================] - 5s 409ms/step - loss: 1.8538e-04 - val_loss: 0.0128\n",
            "Epoch 72/100\n",
            "12/12 [==============================] - 5s 407ms/step - loss: 1.8914e-04 - val_loss: 0.0135\n",
            "Epoch 73/100\n",
            "12/12 [==============================] - 6s 512ms/step - loss: 1.8183e-04 - val_loss: 0.0110\n",
            "Epoch 74/100\n",
            "12/12 [==============================] - 5s 407ms/step - loss: 1.9334e-04 - val_loss: 0.0117\n",
            "Epoch 75/100\n",
            "12/12 [==============================] - 6s 524ms/step - loss: 2.0390e-04 - val_loss: 0.0133\n",
            "Epoch 76/100\n",
            "12/12 [==============================] - 5s 411ms/step - loss: 1.8957e-04 - val_loss: 0.0302\n",
            "Epoch 77/100\n",
            "12/12 [==============================] - 6s 485ms/step - loss: 1.9679e-04 - val_loss: 0.0236\n",
            "Epoch 78/100\n",
            "12/12 [==============================] - 5s 424ms/step - loss: 1.8627e-04 - val_loss: 0.0157\n",
            "Epoch 79/100\n",
            "12/12 [==============================] - 5s 404ms/step - loss: 1.9348e-04 - val_loss: 0.0247\n",
            "Epoch 80/100\n",
            "12/12 [==============================] - 6s 530ms/step - loss: 1.9188e-04 - val_loss: 0.0102\n",
            "Epoch 81/100\n",
            "12/12 [==============================] - 5s 414ms/step - loss: 1.8747e-04 - val_loss: 0.0183\n",
            "Epoch 82/100\n",
            "12/12 [==============================] - 6s 529ms/step - loss: 1.9448e-04 - val_loss: 0.0114\n",
            "Epoch 83/100\n",
            "12/12 [==============================] - 5s 411ms/step - loss: 1.8449e-04 - val_loss: 0.0097\n",
            "Epoch 84/100\n",
            "12/12 [==============================] - 5s 427ms/step - loss: 1.8095e-04 - val_loss: 0.0089\n",
            "Epoch 85/100\n",
            "12/12 [==============================] - 6s 482ms/step - loss: 1.7673e-04 - val_loss: 0.0089\n",
            "Epoch 86/100\n",
            "12/12 [==============================] - 5s 406ms/step - loss: 1.8194e-04 - val_loss: 0.0104\n",
            "Epoch 87/100\n",
            "12/12 [==============================] - 6s 531ms/step - loss: 1.9543e-04 - val_loss: 0.0097\n",
            "Epoch 88/100\n",
            "12/12 [==============================] - 5s 408ms/step - loss: 1.8256e-04 - val_loss: 0.0295\n",
            "Epoch 89/100\n",
            "12/12 [==============================] - 6s 517ms/step - loss: 1.8849e-04 - val_loss: 0.0112\n",
            "Epoch 90/100\n",
            "12/12 [==============================] - 5s 413ms/step - loss: 1.7810e-04 - val_loss: 0.0095\n",
            "Epoch 91/100\n",
            "12/12 [==============================] - 5s 405ms/step - loss: 1.7950e-04 - val_loss: 0.0214\n",
            "Epoch 92/100\n",
            "12/12 [==============================] - 6s 519ms/step - loss: 2.0603e-04 - val_loss: 0.0087\n",
            "Epoch 93/100\n",
            "12/12 [==============================] - 5s 410ms/step - loss: 2.0184e-04 - val_loss: 0.0084\n",
            "Epoch 94/100\n",
            "12/12 [==============================] - 6s 526ms/step - loss: 1.8642e-04 - val_loss: 0.0167\n",
            "Epoch 95/100\n",
            "12/12 [==============================] - 5s 411ms/step - loss: 1.7914e-04 - val_loss: 0.0144\n",
            "Epoch 96/100\n",
            "12/12 [==============================] - 6s 469ms/step - loss: 1.8077e-04 - val_loss: 0.0088\n",
            "Epoch 97/100\n",
            "12/12 [==============================] - 6s 447ms/step - loss: 1.7944e-04 - val_loss: 0.0091\n",
            "Epoch 98/100\n",
            "12/12 [==============================] - 5s 414ms/step - loss: 1.7777e-04 - val_loss: 0.0071\n",
            "Epoch 99/100\n",
            "12/12 [==============================] - 6s 526ms/step - loss: 1.8743e-04 - val_loss: 0.0169\n",
            "Epoch 100/100\n",
            "12/12 [==============================] - 5s 414ms/step - loss: 1.8374e-04 - val_loss: 0.0196\n"
          ]
        },
        {
          "output_type": "execute_result",
          "data": {
            "text/plain": [
              "<tensorflow.python.keras.callbacks.History at 0x7efe0beefa60>"
            ]
          },
          "metadata": {},
          "execution_count": 31
        }
      ]
    },
    {
      "cell_type": "code",
      "source": [
        "### Lets Do the prediction and check performance metrics\n",
        "train_predict=model.predict(X_train)\n",
        "test_predict=model.predict(X_test)"
      ],
      "metadata": {
        "id": "ZlIWQi_MAc4V"
      },
      "execution_count": 32,
      "outputs": []
    },
    {
      "cell_type": "code",
      "source": [
        "##Transformback to original form\n",
        "train_predict=scaler.inverse_transform(train_predict)\n",
        "test_predict=scaler.inverse_transform(test_predict)"
      ],
      "metadata": {
        "id": "6VG60lPGFeC0"
      },
      "execution_count": 33,
      "outputs": []
    },
    {
      "cell_type": "code",
      "source": [
        "### Calculate RMSE performance metrics\n",
        "math.sqrt(mean_squared_error(y_train,train_predict))"
      ],
      "metadata": {
        "colab": {
          "base_uri": "https://localhost:8080/"
        },
        "id": "Fv60q33AFj0s",
        "outputId": "0a1aa674-8280-4984-c97d-876bd9821159"
      },
      "execution_count": 34,
      "outputs": [
        {
          "output_type": "execute_result",
          "data": {
            "text/plain": [
              "61.372849304179056"
            ]
          },
          "metadata": {},
          "execution_count": 34
        }
      ]
    },
    {
      "cell_type": "code",
      "source": [
        "### Test Data RMSE\n",
        "math.sqrt(mean_squared_error(ytest,test_predict))"
      ],
      "metadata": {
        "colab": {
          "base_uri": "https://localhost:8080/"
        },
        "id": "3DyZFwuuF78i",
        "outputId": "c2d8c60b-f8b3-47bc-dbc4-d91cb21b2c7b"
      },
      "execution_count": 35,
      "outputs": [
        {
          "output_type": "execute_result",
          "data": {
            "text/plain": [
              "133.63129912430722"
            ]
          },
          "metadata": {},
          "execution_count": 35
        }
      ]
    },
    {
      "cell_type": "code",
      "source": [
        "### Plotting \n",
        "# shift train predictions for plotting\n",
        "look_back=100\n",
        "trainPredictPlot = numpy.empty_like(df1)\n",
        "trainPredictPlot[:, :] = np.nan\n",
        "trainPredictPlot[look_back:len(train_predict)+look_back, :] = train_predict\n",
        "# shift test predictions for plotting\n",
        "testPredictPlot = numpy.empty_like(df1)\n",
        "testPredictPlot[:, :] = numpy.nan\n",
        "testPredictPlot[len(train_predict)+(look_back*2)+1:len(df1)-1, :] = test_predict\n",
        "# plot baseline and predictions\n",
        "plt.plot(scaler.inverse_transform(df1))\n",
        "plt.plot(trainPredictPlot)\n",
        "plt.plot(testPredictPlot)\n",
        "plt.show()"
      ],
      "metadata": {
        "colab": {
          "base_uri": "https://localhost:8080/",
          "height": 430
        },
        "id": "8D0oUOiRlmHx",
        "outputId": "63493bf3-e87b-484e-c01b-ae560c8258c4"
      },
      "execution_count": 36,
      "outputs": [
        {
          "output_type": "display_data",
          "data": {
            "text/plain": [
              "<Figure size 640x480 with 1 Axes>"
            ],
            "image/png": "[encoded data removed]"
          },
          "metadata": {}
        }
      ]
    },
    {
      "cell_type": "code",
      "source": [],
      "metadata": {
        "id": "FgVDnURelvOt"
      },
      "execution_count": 30,
      "outputs": []
    }
  ]
}